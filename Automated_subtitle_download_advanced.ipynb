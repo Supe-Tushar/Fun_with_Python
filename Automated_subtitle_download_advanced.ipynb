{
 "cells": [
  {
   "cell_type": "markdown",
   "metadata": {},
   "source": [
    "# Automated Subtitle Downloader\n",
    "## Download and Rename accordingly \n",
    "## Advanced with *BeautifulSoup*"
   ]
  },
  {
   "cell_type": "code",
   "execution_count": 2,
   "metadata": {},
   "outputs": [],
   "source": [
    "import requests\n",
    "from bs4 import BeautifulSoup as bs\n",
    "import time\n",
    "from zipfile import ZipFile \n",
    "import os\n",
    "from difflib import SequenceMatcher\n"
   ]
  },
  {
   "cell_type": "code",
   "execution_count": 9,
   "metadata": {},
   "outputs": [],
   "source": [
    "def similarity(string1, string2):\n",
    "    return SequenceMatcher(None, string1, string2).ratio()\n",
    "\n",
    "def get_year():\n",
    "    \n",
    "    movie_year = input(\"Enter movie year: \")\n",
    "    if len(movie_year) == 4 and movie_year.isnumeric():\n",
    "        movie_year = int(movie_year)\n",
    "        return movie_year\n",
    "    else: print(\"Enter valid and numeric year\"); get_year()\n",
    "    \n",
    "\n",
    "def get_language():\n",
    "    lang_dict = {0: 'English', 1: 'Arabic', 2: 'Bengali', 3: 'Brazilian portuguese', 4: 'Bulgarian', 5: 'Chinese', 6: 'Croatian', 7: 'Czech', 8: 'Danish', 9: 'Hindi', 10: 'Farsi/persian', \n",
    "                 11: 'Finnish', 12: 'German', 13: 'Greek', 14: 'Hebrew', 15: 'Hungarian', 16: 'Indonesian', 17: 'Italian', 18: 'Japanese', 19: 'Korean', 20: 'Macedonian', \n",
    "                 21: 'Malay', 22: 'Norwegian', 23: 'Polish', 24: 'Portuguese', 25: 'Romanian', 26: 'Russian', 27: 'Serbian', 28: 'Slovenian', 29: 'Spanish', 30: 'Swedish', \n",
    "                 31: 'Thai', 32: 'Urdu', 33: 'Vietnamese'}\n",
    "    print(lang_dict)\n",
    "    print(\"Enter 0 for English language\")\n",
    "    \n",
    "    lang_num = input(\"Chose and Enter subtitle language number from above: \")\n",
    "    if (len(lang_num) == 1 or len(lang_num) == 2) and lang_num.isnumeric():\n",
    "        \n",
    "        lang_num = int(lang_num)\n",
    "        try: \n",
    "            language = lang_dict[lang_num]\n",
    "            return language\n",
    "        except: print(\"Number not in Dict. Enter valid number\"); get_language()\n",
    "        \n",
    "    else: print(\"Enter valid number\"); get_language()\n",
    "        \n",
    "    \n",
    "\n",
    "def enter_movie_details():\n",
    "    \n",
    "    language = get_language()\n",
    "            \n",
    "    movie_year = get_year()\n",
    "        \n",
    "    movie_name = input(\"Enter movie name: \")\n",
    "    return movie_name, movie_year, language\n",
    " \n",
    "\n",
    "def get_query_results(movie_name):\n",
    "    query = movie_name.replace(\" \", \"%20\")\n",
    "    search_url = root_url + str(\"/search/\") + str(query)\n",
    "    page = requests.get(search_url)\n",
    "    soup = bs(page.content, \"lxml\")\n",
    "    results = soup.find_all(\"div\", class_=\"media-body\")\n",
    "    return results\n",
    "\n",
    "\n",
    "def get_subtitle_page_link(results, movie_name, movie_year):\n",
    "    matched_year_dict = {}\n",
    "    for i in range(len(results)):\n",
    "        name = results[i].find(\"h3\", class_=\"media-heading\").text\n",
    "        year = int(results[i].find_all(\"span\", class_=\"movinfo-section\")[0].text.strip().replace(\"year\",\"\"))\n",
    "        \n",
    "        href = results[i].find(\"a\")['href']\n",
    "        \n",
    "        if year == movie_year:\n",
    "            matched_year_dict[name] = href\n",
    "    \n",
    "    name_list = list(matched_year_dict.keys())\n",
    "    print(\"name_list: \",name_list)\n",
    "    prob_list = []\n",
    "    for nam in name_list:\n",
    "        nam = nam.lower()\n",
    "        movie_nam = movie_name.lower()\n",
    "        prob_list.append(similarity(nam, movie_nam))\n",
    "    matched_href = matched_year_dict[name_list[prob_list.index(max(prob_list))]]\n",
    "    sub_page_url = root_url + str(matched_href)\n",
    "    return sub_page_url\n",
    "\n",
    "\n",
    "def get_subtile_link(sub_page_url, language):\n",
    "    page = requests.get(sub_page_url)\n",
    "    soup = bs(page.content, \"lxml\")\n",
    "    table = soup.find(\"table\", { \"class\" : \"table other-subs\" })\n",
    "    rating_dict = {}\n",
    "    for row in table.findAll(\"tr\"):\n",
    "        cells = row.findAll(\"td\")\n",
    "        if len(cells) > 1:\n",
    "            rating = cells[0].text.strip()\n",
    "            lang = cells[1].text.strip()\n",
    "            href = cells[2].find(\"a\")['href']\n",
    "            if lang == language:\n",
    "                rating_dict[rating] = href\n",
    "\n",
    "    best_href = rating_dict[max(rating_dict)]\n",
    "    return best_href\n",
    "\n",
    "\n",
    "def download_and_unzip_srt(sub_link):\n",
    "    sub_link = sub_link.replace(\"subtitles\",\"subtitle\")\n",
    "    sub_dwnld = \"https://yifysubtitles.org\" + sub_link + \".zip\"\n",
    "    r = requests.get(sub_dwnld, allow_redirects=True)\n",
    "    sub_link = sub_link.split(\"/\")[-1]\n",
    "    file_name = dir_path_to_download + str(sub_link) + \".zip\"\n",
    "    open(file_name, 'wb').write(r.content)\n",
    "    print('Downloaded') \n",
    "    with ZipFile(file_name, 'r') as zip: \n",
    "        #zip.printdir() # printing all the contents of the zip file \n",
    "        zip.extractall(dir_path_to_download)\n",
    "        print('Extracted')\n"
   ]
  },
  {
   "cell_type": "code",
   "execution_count": 10,
   "metadata": {},
   "outputs": [
    {
     "name": "stdout",
     "output_type": "stream",
     "text": [
      "{0: 'English', 1: 'Arabic', 2: 'Bengali', 3: 'Brazilian portuguese', 4: 'Bulgarian', 5: 'Chinese', 6: 'Croatian', 7: 'Czech', 8: 'Danish', 9: 'Hindi', 10: 'Farsi/persian', 11: 'Finnish', 12: 'German', 13: 'Greek', 14: 'Hebrew', 15: 'Hungarian', 16: 'Indonesian', 17: 'Italian', 18: 'Japanese', 19: 'Korean', 20: 'Macedonian', 21: 'Malay', 22: 'Norwegian', 23: 'Polish', 24: 'Portuguese', 25: 'Romanian', 26: 'Russian', 27: 'Serbian', 28: 'Slovenian', 29: 'Spanish', 30: 'Swedish', 31: 'Thai', 32: 'Urdu', 33: 'Vietnamese'}\n",
      "Enter 0 for English language\n"
     ]
    },
    {
     "name": "stdin",
     "output_type": "stream",
     "text": [
      "Chose and Enter subtitle language number from above:  0\n",
      "Enter movie year:  1979\n",
      "Enter movie name:  mad max\n"
     ]
    },
    {
     "name": "stdout",
     "output_type": "stream",
     "text": [
      "name_list:  ['Mad Max']\n",
      "Downloaded\n",
      "Extracted\n"
     ]
    }
   ],
   "source": [
    "root_url = \"https://yts-subs.com\"\n",
    "dir_path_to_download = \"F:\\\\Movies_Tv_F\\\\Subtitles\\\\\" \n",
    "\n",
    "movie_name, movie_year, language = enter_movie_details()\n",
    "results = get_query_results(movie_name)\n",
    "sub_page_url = get_subtitle_page_link(results, movie_name, movie_year)\n",
    "best_href = get_subtile_link(sub_page_url, language)\n",
    "download_and_unzip_srt(best_href)"
   ]
  },
  {
   "cell_type": "code",
   "execution_count": null,
   "metadata": {},
   "outputs": [],
   "source": [
    "# Hubie Halloween 2020"
   ]
  },
  {
   "cell_type": "markdown",
   "metadata": {},
   "source": [
    "# END"
   ]
  }
 ],
 "metadata": {
  "kernelspec": {
   "display_name": "Python 3",
   "language": "python",
   "name": "python3"
  },
  "language_info": {
   "codemirror_mode": {
    "name": "ipython",
    "version": 3
   },
   "file_extension": ".py",
   "mimetype": "text/x-python",
   "name": "python",
   "nbconvert_exporter": "python",
   "pygments_lexer": "ipython3",
   "version": "3.7.1"
  }
 },
 "nbformat": 4,
 "nbformat_minor": 2
}
